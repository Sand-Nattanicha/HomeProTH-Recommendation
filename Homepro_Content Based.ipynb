{
 "cells": [
  {
   "cell_type": "code",
   "execution_count": 1,
   "metadata": {
    "tags": []
   },
   "outputs": [],
   "source": [
    "import pandas as pd\n",
    "import numpy as np\n",
    "from sklearn.feature_extraction.text import CountVectorizer\n",
    "from sklearn.metrics.pairwise import linear_kernel\n",
    "from sklearn.metrics.pairwise import cosine_similarity\n",
    "from sklearn.model_selection import train_test_split\n",
    "import warnings\n",
    "\n",
    "import pythainlp\n",
    "from pythainlp import word_tokenize\n",
    "from pythainlp.corpus import get_corpus"
   ]
  },
  {
   "cell_type": "markdown",
   "metadata": {},
   "source": [
    "## Read Data"
   ]
  },
  {
   "cell_type": "code",
   "execution_count": 2,
   "metadata": {},
   "outputs": [
    {
     "data": {
      "text/html": [
       "<div>\n",
       "<style scoped>\n",
       "    .dataframe tbody tr th:only-of-type {\n",
       "        vertical-align: middle;\n",
       "    }\n",
       "\n",
       "    .dataframe tbody tr th {\n",
       "        vertical-align: top;\n",
       "    }\n",
       "\n",
       "    .dataframe thead th {\n",
       "        text-align: right;\n",
       "    }\n",
       "</style>\n",
       "<table border=\"1\" class=\"dataframe\">\n",
       "  <thead>\n",
       "    <tr style=\"text-align: right;\">\n",
       "      <th></th>\n",
       "      <th>hp_article</th>\n",
       "      <th>hp_prod_desc_th40</th>\n",
       "      <th>hp_mch_id</th>\n",
       "      <th>hp_brand</th>\n",
       "    </tr>\n",
       "  </thead>\n",
       "  <tbody>\n",
       "    <tr>\n",
       "      <th>0</th>\n",
       "      <td>285558</td>\n",
       "      <td>ลูกบิดทั่วไป VECO 3871SS-ML-ETหัวกลม SS</td>\n",
       "      <td>DH010101</td>\n",
       "      <td>VECO</td>\n",
       "    </tr>\n",
       "    <tr>\n",
       "      <th>1</th>\n",
       "      <td>285559</td>\n",
       "      <td>ลูกบิดห้องน้ำ VECO3871SS-ML-BKหัวกลม SS</td>\n",
       "      <td>DH010103</td>\n",
       "      <td>VECO</td>\n",
       "    </tr>\n",
       "    <tr>\n",
       "      <th>2</th>\n",
       "      <td>261589</td>\n",
       "      <td>เขาควายทั่วไป SOLEX 1615 SN/R SS</td>\n",
       "      <td>DH010401</td>\n",
       "      <td>SOLEX</td>\n",
       "    </tr>\n",
       "    <tr>\n",
       "      <th>3</th>\n",
       "      <td>1013621</td>\n",
       "      <td>กล่องเก็บของ 10.5L 5122 JCJ IVA M ขาว</td>\n",
       "      <td>HO020102</td>\n",
       "      <td>JCJ</td>\n",
       "    </tr>\n",
       "    <tr>\n",
       "      <th>4</th>\n",
       "      <td>1037657</td>\n",
       "      <td>ม่านEyelet 19072SOR 240X250 AUBURN PSY</td>\n",
       "      <td>FD010202</td>\n",
       "      <td>PASAYA</td>\n",
       "    </tr>\n",
       "  </tbody>\n",
       "</table>\n",
       "</div>"
      ],
      "text/plain": [
       "   hp_article                        hp_prod_desc_th40 hp_mch_id hp_brand\n",
       "0      285558  ลูกบิดทั่วไป VECO 3871SS-ML-ETหัวกลม SS  DH010101     VECO\n",
       "1      285559  ลูกบิดห้องน้ำ VECO3871SS-ML-BKหัวกลม SS  DH010103     VECO\n",
       "2      261589         เขาควายทั่วไป SOLEX 1615 SN/R SS  DH010401    SOLEX\n",
       "3     1013621    กล่องเก็บของ 10.5L 5122 JCJ IVA M ขาว  HO020102      JCJ\n",
       "4     1037657   ม่านEyelet 19072SOR 240X250 AUBURN PSY  FD010202   PASAYA"
      ]
     },
     "execution_count": 2,
     "metadata": {},
     "output_type": "execute_result"
    }
   ],
   "source": [
    "ds = pd.read_csv('Database/new_all_hp_newdel.csv')\n",
    "ds.head()"
   ]
  },
  {
   "cell_type": "code",
   "execution_count": 3,
   "metadata": {},
   "outputs": [],
   "source": [
    "ds = ds[['hp_article','hp_prod_desc_th40', 'hp_mch_id']]"
   ]
  },
  {
   "cell_type": "code",
   "execution_count": 4,
   "metadata": {
    "tags": []
   },
   "outputs": [],
   "source": [
    "ds = ds.dropna()"
   ]
  },
  {
   "cell_type": "code",
   "execution_count": 5,
   "metadata": {
    "tags": []
   },
   "outputs": [
    {
     "data": {
      "text/html": [
       "<div>\n",
       "<style scoped>\n",
       "    .dataframe tbody tr th:only-of-type {\n",
       "        vertical-align: middle;\n",
       "    }\n",
       "\n",
       "    .dataframe tbody tr th {\n",
       "        vertical-align: top;\n",
       "    }\n",
       "\n",
       "    .dataframe thead th {\n",
       "        text-align: right;\n",
       "    }\n",
       "</style>\n",
       "<table border=\"1\" class=\"dataframe\">\n",
       "  <thead>\n",
       "    <tr style=\"text-align: right;\">\n",
       "      <th></th>\n",
       "      <th>id</th>\n",
       "      <th>description</th>\n",
       "      <th>mch_id</th>\n",
       "    </tr>\n",
       "  </thead>\n",
       "  <tbody>\n",
       "    <tr>\n",
       "      <th>0</th>\n",
       "      <td>285558</td>\n",
       "      <td>ลูกบิดทั่วไป VECO 3871SS-ML-ETหัวกลม SS</td>\n",
       "      <td>DH010101</td>\n",
       "    </tr>\n",
       "    <tr>\n",
       "      <th>1</th>\n",
       "      <td>285559</td>\n",
       "      <td>ลูกบิดห้องน้ำ VECO3871SS-ML-BKหัวกลม SS</td>\n",
       "      <td>DH010103</td>\n",
       "    </tr>\n",
       "    <tr>\n",
       "      <th>2</th>\n",
       "      <td>261589</td>\n",
       "      <td>เขาควายทั่วไป SOLEX 1615 SN/R SS</td>\n",
       "      <td>DH010401</td>\n",
       "    </tr>\n",
       "    <tr>\n",
       "      <th>3</th>\n",
       "      <td>1013621</td>\n",
       "      <td>กล่องเก็บของ 10.5L 5122 JCJ IVA M ขาว</td>\n",
       "      <td>HO020102</td>\n",
       "    </tr>\n",
       "    <tr>\n",
       "      <th>4</th>\n",
       "      <td>1037657</td>\n",
       "      <td>ม่านEyelet 19072SOR 240X250 AUBURN PSY</td>\n",
       "      <td>FD010202</td>\n",
       "    </tr>\n",
       "    <tr>\n",
       "      <th>...</th>\n",
       "      <td>...</td>\n",
       "      <td>...</td>\n",
       "      <td>...</td>\n",
       "    </tr>\n",
       "    <tr>\n",
       "      <th>97304</th>\n",
       "      <td>1167326</td>\n",
       "      <td>แผ่นกันลื่น ELLA 27.5X27.5 น้ำตาลอ่อน ME</td>\n",
       "      <td>FD020202</td>\n",
       "    </tr>\n",
       "    <tr>\n",
       "      <th>97305</th>\n",
       "      <td>1167329</td>\n",
       "      <td>แปรงทำความสะอาดขวด/แก้ว MOKU</td>\n",
       "      <td>HO010409</td>\n",
       "    </tr>\n",
       "    <tr>\n",
       "      <th>97306</th>\n",
       "      <td>230805</td>\n",
       "      <td>ถังดับเพลิงผงเคมีแห้งIMPERIAL 2A2B 2.2LB</td>\n",
       "      <td>HW050201</td>\n",
       "    </tr>\n",
       "    <tr>\n",
       "      <th>97307</th>\n",
       "      <td>1167328</td>\n",
       "      <td>ตู้แช่2ระบบ HAI HCF-478C -15.2 Q ขาว</td>\n",
       "      <td>MA020603</td>\n",
       "    </tr>\n",
       "    <tr>\n",
       "      <th>97308</th>\n",
       "      <td>1084597</td>\n",
       "      <td>พรม ALGA 90X150 คละสี HLS</td>\n",
       "      <td>FD020104</td>\n",
       "    </tr>\n",
       "  </tbody>\n",
       "</table>\n",
       "<p>97309 rows × 3 columns</p>\n",
       "</div>"
      ],
      "text/plain": [
       "            id                               description    mch_id\n",
       "0       285558   ลูกบิดทั่วไป VECO 3871SS-ML-ETหัวกลม SS  DH010101\n",
       "1       285559   ลูกบิดห้องน้ำ VECO3871SS-ML-BKหัวกลม SS  DH010103\n",
       "2       261589          เขาควายทั่วไป SOLEX 1615 SN/R SS  DH010401\n",
       "3      1013621     กล่องเก็บของ 10.5L 5122 JCJ IVA M ขาว  HO020102\n",
       "4      1037657    ม่านEyelet 19072SOR 240X250 AUBURN PSY  FD010202\n",
       "...        ...                                       ...       ...\n",
       "97304  1167326  แผ่นกันลื่น ELLA 27.5X27.5 น้ำตาลอ่อน ME  FD020202\n",
       "97305  1167329              แปรงทำความสะอาดขวด/แก้ว MOKU  HO010409\n",
       "97306   230805  ถังดับเพลิงผงเคมีแห้งIMPERIAL 2A2B 2.2LB  HW050201\n",
       "97307  1167328      ตู้แช่2ระบบ HAI HCF-478C -15.2 Q ขาว  MA020603\n",
       "97308  1084597                 พรม ALGA 90X150 คละสี HLS  FD020104\n",
       "\n",
       "[97309 rows x 3 columns]"
      ]
     },
     "execution_count": 5,
     "metadata": {},
     "output_type": "execute_result"
    }
   ],
   "source": [
    "ds.rename(columns = {'hp_article':'id'}, inplace = True) \n",
    "ds.rename(columns = {'hp_prod_desc_th40':'description'}, inplace = True)\n",
    "ds.rename(columns = {'hp_mch_id':'mch_id'}, inplace = True)\n",
    "ds"
   ]
  },
  {
   "cell_type": "code",
   "execution_count": 6,
   "metadata": {},
   "outputs": [],
   "source": [
    "new_ds = ds\n",
    "new_ds['new_des'] = ds.apply(lambda x: word_tokenize(x[1],engine=\"newmm\",keep_whitespace=False), axis=1)"
   ]
  },
  {
   "cell_type": "code",
   "execution_count": 7,
   "metadata": {},
   "outputs": [
    {
     "data": {
      "text/html": [
       "<div>\n",
       "<style scoped>\n",
       "    .dataframe tbody tr th:only-of-type {\n",
       "        vertical-align: middle;\n",
       "    }\n",
       "\n",
       "    .dataframe tbody tr th {\n",
       "        vertical-align: top;\n",
       "    }\n",
       "\n",
       "    .dataframe thead th {\n",
       "        text-align: right;\n",
       "    }\n",
       "</style>\n",
       "<table border=\"1\" class=\"dataframe\">\n",
       "  <thead>\n",
       "    <tr style=\"text-align: right;\">\n",
       "      <th></th>\n",
       "      <th>id</th>\n",
       "      <th>description</th>\n",
       "      <th>mch_id</th>\n",
       "      <th>new_des</th>\n",
       "    </tr>\n",
       "  </thead>\n",
       "  <tbody>\n",
       "    <tr>\n",
       "      <th>0</th>\n",
       "      <td>285558</td>\n",
       "      <td>ลูกบิดทั่วไป VECO 3871SS-ML-ETหัวกลม SS</td>\n",
       "      <td>DH010101</td>\n",
       "      <td>[ลูกบิด, ทั่วไป, VECO, 3871, SS-ML-ET, หัว, กล...</td>\n",
       "    </tr>\n",
       "    <tr>\n",
       "      <th>1</th>\n",
       "      <td>285559</td>\n",
       "      <td>ลูกบิดห้องน้ำ VECO3871SS-ML-BKหัวกลม SS</td>\n",
       "      <td>DH010103</td>\n",
       "      <td>[ลูกบิด, ห้องน้ำ, VECO, 3871, SS-ML-BK, หัว, ก...</td>\n",
       "    </tr>\n",
       "    <tr>\n",
       "      <th>2</th>\n",
       "      <td>261589</td>\n",
       "      <td>เขาควายทั่วไป SOLEX 1615 SN/R SS</td>\n",
       "      <td>DH010401</td>\n",
       "      <td>[เขา, ควาย, ทั่วไป, SOLEX, 1615, SN, /, R, SS]</td>\n",
       "    </tr>\n",
       "    <tr>\n",
       "      <th>3</th>\n",
       "      <td>1013621</td>\n",
       "      <td>กล่องเก็บของ 10.5L 5122 JCJ IVA M ขาว</td>\n",
       "      <td>HO020102</td>\n",
       "      <td>[กล่อง, เก็บ, ของ, 10.5, L, 5122, JCJ, IVA, M,...</td>\n",
       "    </tr>\n",
       "    <tr>\n",
       "      <th>4</th>\n",
       "      <td>1037657</td>\n",
       "      <td>ม่านEyelet 19072SOR 240X250 AUBURN PSY</td>\n",
       "      <td>FD010202</td>\n",
       "      <td>[ม่าน, Eyelet, 19072, SOR, 240, X, 250, AUBURN...</td>\n",
       "    </tr>\n",
       "    <tr>\n",
       "      <th>...</th>\n",
       "      <td>...</td>\n",
       "      <td>...</td>\n",
       "      <td>...</td>\n",
       "      <td>...</td>\n",
       "    </tr>\n",
       "    <tr>\n",
       "      <th>95</th>\n",
       "      <td>1145499</td>\n",
       "      <td>หมวกนิรภัย มอก. GAGE HDPE 2332 YE</td>\n",
       "      <td>HW050104</td>\n",
       "      <td>[หมวกนิรภัย, มอก., GAGE, HDPE, 2332, YE]</td>\n",
       "    </tr>\n",
       "    <tr>\n",
       "      <th>96</th>\n",
       "      <td>1170470</td>\n",
       "      <td>สีน้ำทาภายใน AIR CARE  BASE B SG 1GL</td>\n",
       "      <td>PA010102</td>\n",
       "      <td>[สีน้ำ, ทา, ภายใน, AIR, CARE, BASE, B, SG, 1, GL]</td>\n",
       "    </tr>\n",
       "    <tr>\n",
       "      <th>97</th>\n",
       "      <td>1170471</td>\n",
       "      <td>ตู้เย็น2D SAM RB33T3070AP/ST 12Q เปลี่ยน</td>\n",
       "      <td>MA020204</td>\n",
       "      <td>[ตู้เย็น, 2, D, SAM, RB, 33, T, 3070, AP, /, S...</td>\n",
       "    </tr>\n",
       "    <tr>\n",
       "      <th>98</th>\n",
       "      <td>1170473</td>\n",
       "      <td>หน้าบาน ตย.2D SAM BeSpoke ด้านล่าง เทา</td>\n",
       "      <td>MA020903</td>\n",
       "      <td>[หน้าบาน, ตย., 2, D, SAM, BeSpoke, ด้านล่าง, เทา]</td>\n",
       "    </tr>\n",
       "    <tr>\n",
       "      <th>99</th>\n",
       "      <td>3689</td>\n",
       "      <td>สเปรย์ทำความสะอาดเคลือบเงาสเตนเลส600g3M</td>\n",
       "      <td>HO010106</td>\n",
       "      <td>[สเปรย์, ทำความสะอาด, เคลือบ, เงา, สเตนเลส, 60...</td>\n",
       "    </tr>\n",
       "  </tbody>\n",
       "</table>\n",
       "<p>100 rows × 4 columns</p>\n",
       "</div>"
      ],
      "text/plain": [
       "         id                               description    mch_id  \\\n",
       "0    285558   ลูกบิดทั่วไป VECO 3871SS-ML-ETหัวกลม SS  DH010101   \n",
       "1    285559   ลูกบิดห้องน้ำ VECO3871SS-ML-BKหัวกลม SS  DH010103   \n",
       "2    261589          เขาควายทั่วไป SOLEX 1615 SN/R SS  DH010401   \n",
       "3   1013621     กล่องเก็บของ 10.5L 5122 JCJ IVA M ขาว  HO020102   \n",
       "4   1037657    ม่านEyelet 19072SOR 240X250 AUBURN PSY  FD010202   \n",
       "..      ...                                       ...       ...   \n",
       "95  1145499         หมวกนิรภัย มอก. GAGE HDPE 2332 YE  HW050104   \n",
       "96  1170470      สีน้ำทาภายใน AIR CARE  BASE B SG 1GL  PA010102   \n",
       "97  1170471  ตู้เย็น2D SAM RB33T3070AP/ST 12Q เปลี่ยน  MA020204   \n",
       "98  1170473    หน้าบาน ตย.2D SAM BeSpoke ด้านล่าง เทา  MA020903   \n",
       "99     3689   สเปรย์ทำความสะอาดเคลือบเงาสเตนเลส600g3M  HO010106   \n",
       "\n",
       "                                              new_des  \n",
       "0   [ลูกบิด, ทั่วไป, VECO, 3871, SS-ML-ET, หัว, กล...  \n",
       "1   [ลูกบิด, ห้องน้ำ, VECO, 3871, SS-ML-BK, หัว, ก...  \n",
       "2      [เขา, ควาย, ทั่วไป, SOLEX, 1615, SN, /, R, SS]  \n",
       "3   [กล่อง, เก็บ, ของ, 10.5, L, 5122, JCJ, IVA, M,...  \n",
       "4   [ม่าน, Eyelet, 19072, SOR, 240, X, 250, AUBURN...  \n",
       "..                                                ...  \n",
       "95           [หมวกนิรภัย, มอก., GAGE, HDPE, 2332, YE]  \n",
       "96  [สีน้ำ, ทา, ภายใน, AIR, CARE, BASE, B, SG, 1, GL]  \n",
       "97  [ตู้เย็น, 2, D, SAM, RB, 33, T, 3070, AP, /, S...  \n",
       "98  [หน้าบาน, ตย., 2, D, SAM, BeSpoke, ด้านล่าง, เทา]  \n",
       "99  [สเปรย์, ทำความสะอาด, เคลือบ, เงา, สเตนเลส, 60...  \n",
       "\n",
       "[100 rows x 4 columns]"
      ]
     },
     "execution_count": 7,
     "metadata": {},
     "output_type": "execute_result"
    }
   ],
   "source": [
    "new_ds.head(100)"
   ]
  },
  {
   "cell_type": "markdown",
   "metadata": {},
   "source": [
    "# Train Test Split"
   ]
  },
  {
   "cell_type": "code",
   "execution_count": 8,
   "metadata": {},
   "outputs": [
    {
     "name": "stdout",
     "output_type": "stream",
     "text": [
      "# interactions on Train set: 77847\n",
      "# interactions on Test set: 19462\n"
     ]
    }
   ],
   "source": [
    "train_df, test_df = train_test_split(new_ds, \n",
    "                    test_size=0.20,\n",
    "                    random_state=123)\n",
    "\n",
    "print('# interactions on Train set: %d' % len(train_df))\n",
    "print('# interactions on Test set: %d' % len(test_df))"
   ]
  },
  {
   "cell_type": "code",
   "execution_count": 9,
   "metadata": {},
   "outputs": [],
   "source": [
    "def process_text(text):\n",
    "    #pre rules\n",
    "    res = text\n",
    "    return res"
   ]
  },
  {
   "cell_type": "markdown",
   "metadata": {},
   "source": [
    "# Count Vectorizer"
   ]
  },
  {
   "cell_type": "code",
   "execution_count": 10,
   "metadata": {},
   "outputs": [],
   "source": [
    "cv = CountVectorizer(tokenizer=process_text, lowercase=False)\n",
    "cv_matrix = cv.fit_transform(new_ds['new_des'])"
   ]
  },
  {
   "cell_type": "code",
   "execution_count": 11,
   "metadata": {},
   "outputs": [
    {
     "data": {
      "text/plain": [
       "<97309x37451 sparse matrix of type '<class 'numpy.int64'>'\n",
       "\twith 864994 stored elements in Compressed Sparse Row format>"
      ]
     },
     "execution_count": 11,
     "metadata": {},
     "output_type": "execute_result"
    }
   ],
   "source": [
    "cv_matrix"
   ]
  },
  {
   "cell_type": "markdown",
   "metadata": {},
   "source": [
    "### Find similarity using Linear Distance"
   ]
  },
  {
   "cell_type": "code",
   "execution_count": 12,
   "metadata": {},
   "outputs": [],
   "source": [
    "cosine_similarities = cosine_similarity(cv_matrix, cv_matrix)"
   ]
  },
  {
   "cell_type": "code",
   "execution_count": 13,
   "metadata": {},
   "outputs": [
    {
     "data": {
      "text/plain": [
       "array([[1.        , 0.75      , 0.23570226, ..., 0.        , 0.        ,\n",
       "        0.        ],\n",
       "       [0.75      , 1.        , 0.11785113, ..., 0.        , 0.        ,\n",
       "        0.        ],\n",
       "       [0.23570226, 0.11785113, 1.        , ..., 0.        , 0.        ,\n",
       "        0.        ],\n",
       "       ...,\n",
       "       [0.        , 0.        , 0.        , ..., 1.        , 0.1490712 ,\n",
       "        0.        ],\n",
       "       [0.        , 0.        , 0.        , ..., 0.1490712 , 1.        ,\n",
       "        0.        ],\n",
       "       [0.        , 0.        , 0.        , ..., 0.        , 0.        ,\n",
       "        1.        ]])"
      ]
     },
     "execution_count": 13,
     "metadata": {},
     "output_type": "execute_result"
    }
   ],
   "source": [
    "cosine_similarities"
   ]
  },
  {
   "cell_type": "markdown",
   "metadata": {},
   "source": [
    "### Show result"
   ]
  },
  {
   "cell_type": "markdown",
   "metadata": {},
   "source": [
    "#### Helper function to use Content-based recommendation System"
   ]
  },
  {
   "cell_type": "code",
   "execution_count": 14,
   "metadata": {},
   "outputs": [],
   "source": [
    "# function that takes in product as input and returns the top 10 recommended product\n",
    "def recommendations(nid, cosine_similarities = cosine_similarities):\n",
    "    \n",
    "    recommended_products = []\n",
    "    recommended_descriptions = []\n",
    "    \n",
    "    # gettin the index of the movie that matches the title\n",
    "    try:\n",
    "        idx = new_ds[new_ds.id == nid].index[0]\n",
    "    except:\n",
    "        print(\"Error : id is not found\")\n",
    "        return\n",
    "\n",
    "    # creating a Series with the similarity scores in descending order\n",
    "    score_series = pd.Series(cosine_similarities[idx]).sort_values(ascending = False)\n",
    "\n",
    "    print()\n",
    "    # getting the indexes of the 10 most similar product\n",
    "    top_10_indexes = list(score_series.iloc[1:11].index)\n",
    "    \n",
    "    # populating the list with the titles of the best 10 matching movies\n",
    "    for i in top_10_indexes:\n",
    "        recommended_products.append(list(new_ds.index)[i])\n",
    "        recommended_descriptions.append(list(new_ds.description)[i])\n",
    "        \n",
    "    print(\"Recommending 10 products similar to \" \n",
    "          + new_ds[new_ds.id == nid].description + \"...\")\n",
    "    print(\"-------\")\n",
    "    j = 0\n",
    "    for rec in recommended_descriptions:\n",
    "        print(\"Recommended: \" + rec + \" (\" + str(score_series.iloc[j,]) +\")\")\n",
    "        j = j + 1        "
   ]
  },
  {
   "cell_type": "markdown",
   "metadata": {},
   "source": [
    "### Recommend"
   ]
  },
  {
   "cell_type": "code",
   "execution_count": 15,
   "metadata": {},
   "outputs": [
    {
     "name": "stdout",
     "output_type": "stream",
     "text": [
      "\n",
      "52963    Recommending 10 products similar to ตลับเมตร  ...\n",
      "Name: description, dtype: object\n",
      "-------\n",
      "Recommended: ตลับเมตร  STANLEY POWERLOCK 5M (1.0000000000000002)\n",
      "Recommended: ตลับเมตร  STANLEY POWERLOCK 8M (0.8333333333333336)\n",
      "Recommended: ตลับเมตร  KDS  3M (0.8333333333333336)\n",
      "Recommended: ตลับเมตร หุ้มยาง STANLEY TYLON 3M (0.7302967433402215)\n",
      "Recommended: ตลับเมตร พลาสติก STANLEY GLOBAL TAPE 3M (0.7216878364870323)\n",
      "Recommended: ตลับเมตร STANLEY GLOBAL TAPE 5M TECH3 (0.7216878364870323)\n",
      "Recommended: ตลับเมตร STANLEY GLOBALTAPE 5M BARCELONA (0.6804138174397717)\n",
      "Recommended: ตลับเมตร หุ้มยาง STANLEY TYLON 8M (0.6172133998483676)\n",
      "Recommended: ตลับเมตร พลาสติก STANLEY GLOBAL TAPE 5M (0.5773502691896258)\n",
      "Recommended: ตลับเมตรKOMELON SELFLOCK 3Mล็อคอัตโนมัติ (0.5773502691896258)\n"
     ]
    }
   ],
   "source": [
    "recommendations(1640)"
   ]
  },
  {
   "cell_type": "code",
   "execution_count": 16,
   "metadata": {},
   "outputs": [
    {
     "name": "stdout",
     "output_type": "stream",
     "text": [
      "\n",
      "3    Recommending 10 products similar to กล่องเก็บข...\n",
      "Name: description, dtype: object\n",
      "-------\n",
      "Recommended: กล่องเก็บของ 20.5L 5123 JCJ IVA L ขาว (0.9999999999999999)\n",
      "Recommended: กล่องเก็บของ 5L 5121 JCJ IVA S ขาว (0.7302967433402215)\n",
      "Recommended: กล่องเก็บของ #3020M M STACKO ขาว (0.7)\n",
      "Recommended: กล่องเก็บของ 16.5L STACKO FAMILI ขาว (0.5720775535473555)\n",
      "Recommended: กล่องเก็บของ 70.5L STACKO FAMILI ขาว (0.5590169943749475)\n",
      "Recommended: กล่องเก็บของ 35.5L 2555 STACKO  ขาว (0.5590169943749475)\n",
      "Recommended: กล่องเก็บของ 66L 2556 STACKO  ขาว (0.5590169943749475)\n",
      "Recommended: กล่องเก็บของ 30L 1403 G-WARE ขาว (0.5590169943749475)\n",
      "Recommended: กล่องเก็บของ 100L 2007 API ขาว (0.5590169943749475)\n",
      "Recommended: กล่องเก็บของ 40L 1402 G-WARE ขาว (0.5590169943749475)\n"
     ]
    }
   ],
   "source": [
    "recommendations(1013621)"
   ]
  },
  {
   "cell_type": "code",
   "execution_count": 17,
   "metadata": {},
   "outputs": [
    {
     "name": "stdout",
     "output_type": "stream",
     "text": [
      "\n",
      "202    Recommending 10 products similar to แก้วน้ำทรง...\n",
      "Name: description, dtype: object\n",
      "-------\n",
      "Recommended: แก้วน้ำทรงสูง 12oz GURALLA DIMOND (0.9999999999999997)\n",
      "Recommended: แก้วน้ำทรงสูง 10oz GURALLA ARAS (0.8571428571428569)\n",
      "Recommended: แก้วน้ำทรงสูง 13oz GURALLA ADORA (0.8571428571428569)\n",
      "Recommended: แก้วน้ำ 10oz GURALLA ARAS (0.7142857142857141)\n",
      "Recommended: แก้วน้ำทรงสูงPP 17oz BIGONE FLOWER แพ็ค3 (0.50709255283711)\n",
      "Recommended: แก้วก้าน 19oz GURALLA ANGELINA (0.47809144373375745)\n",
      "Recommended: แก้วก้าน 10oz GURALLA RENA (0.4629100498862757)\n",
      "Recommended: แก้วก้าน 7oz GURALLA RENA (0.4629100498862757)\n",
      "Recommended: แก้วก้าน 9oz GURALLA LAL (0.4629100498862757)\n",
      "Recommended: แก้วเบียร์ 12oz แพ็ค 4 ใบ OCEAN PILSNER (0.4629100498862757)\n"
     ]
    }
   ],
   "source": [
    "recommendations(1013674)"
   ]
  },
  {
   "cell_type": "markdown",
   "metadata": {},
   "source": [
    "## Evaluation"
   ]
  },
  {
   "cell_type": "code",
   "execution_count": 18,
   "metadata": {},
   "outputs": [
    {
     "data": {
      "text/html": [
       "<div>\n",
       "<style scoped>\n",
       "    .dataframe tbody tr th:only-of-type {\n",
       "        vertical-align: middle;\n",
       "    }\n",
       "\n",
       "    .dataframe tbody tr th {\n",
       "        vertical-align: top;\n",
       "    }\n",
       "\n",
       "    .dataframe thead th {\n",
       "        text-align: right;\n",
       "    }\n",
       "</style>\n",
       "<table border=\"1\" class=\"dataframe\">\n",
       "  <thead>\n",
       "    <tr style=\"text-align: right;\">\n",
       "      <th></th>\n",
       "      <th>partnumber</th>\n",
       "      <th>user_id</th>\n",
       "      <th>status</th>\n",
       "      <th>createdate</th>\n",
       "      <th>lastupdate</th>\n",
       "    </tr>\n",
       "  </thead>\n",
       "  <tbody>\n",
       "    <tr>\n",
       "      <th>999999</th>\n",
       "      <td>1081232</td>\n",
       "      <td>9000000712031</td>\n",
       "      <td>P</td>\n",
       "      <td>2020-12-03 10:39:24</td>\n",
       "      <td>2020-12-03 11:16:26</td>\n",
       "    </tr>\n",
       "    <tr>\n",
       "      <th>999998</th>\n",
       "      <td>1155625</td>\n",
       "      <td>9000000712031</td>\n",
       "      <td>P</td>\n",
       "      <td>2020-12-03 10:39:24</td>\n",
       "      <td>2020-12-03 11:16:26</td>\n",
       "    </tr>\n",
       "    <tr>\n",
       "      <th>999997</th>\n",
       "      <td>200000</td>\n",
       "      <td>9000000213338</td>\n",
       "      <td>C</td>\n",
       "      <td>2020-12-03 11:11:45</td>\n",
       "      <td>2020-12-03 11:16:39</td>\n",
       "    </tr>\n",
       "    <tr>\n",
       "      <th>999996</th>\n",
       "      <td>1117607</td>\n",
       "      <td>9000000213338</td>\n",
       "      <td>C</td>\n",
       "      <td>2020-12-03 11:11:45</td>\n",
       "      <td>2020-12-03 11:16:41</td>\n",
       "    </tr>\n",
       "    <tr>\n",
       "      <th>999995</th>\n",
       "      <td>200000</td>\n",
       "      <td>9000000047908</td>\n",
       "      <td>C</td>\n",
       "      <td>2020-12-03 11:16:23</td>\n",
       "      <td>2020-12-03 11:18:02</td>\n",
       "    </tr>\n",
       "  </tbody>\n",
       "</table>\n",
       "</div>"
      ],
      "text/plain": [
       "        partnumber        user_id status           createdate  \\\n",
       "999999     1081232  9000000712031      P  2020-12-03 10:39:24   \n",
       "999998     1155625  9000000712031      P  2020-12-03 10:39:24   \n",
       "999997      200000  9000000213338      C  2020-12-03 11:11:45   \n",
       "999996     1117607  9000000213338      C  2020-12-03 11:11:45   \n",
       "999995      200000  9000000047908      C  2020-12-03 11:16:23   \n",
       "\n",
       "                 lastupdate  \n",
       "999999  2020-12-03 11:16:26  \n",
       "999998  2020-12-03 11:16:26  \n",
       "999997  2020-12-03 11:16:39  \n",
       "999996  2020-12-03 11:16:41  \n",
       "999995  2020-12-03 11:18:02  "
      ]
     },
     "execution_count": 18,
     "metadata": {},
     "output_type": "execute_result"
    }
   ],
   "source": [
    "interac_df = pd.read_csv('Database/orderitems_orders.csv').sort_values(\"lastupdate\")\n",
    "interac_df.head()"
   ]
  },
  {
   "cell_type": "code",
   "execution_count": 19,
   "metadata": {},
   "outputs": [],
   "source": [
    "interac_df = interac_df[interac_df[\"status\"] == \"P\"]"
   ]
  },
  {
   "cell_type": "code",
   "execution_count": 20,
   "metadata": {},
   "outputs": [],
   "source": [
    "users = interac_df[\"user_id\"].unique()"
   ]
  },
  {
   "cell_type": "code",
   "execution_count": 21,
   "metadata": {},
   "outputs": [],
   "source": [
    "def recommendations(nid, k=10, cosine_similarities = cosine_similarities):\n",
    "    \n",
    "    recommended_products = []\n",
    "    recommended_descriptions = []\n",
    "    \n",
    "    # gettin the index of the movie that matches the title\n",
    "    try:\n",
    "        idx = new_ds[new_ds.id == nid].index[0]\n",
    "    except:\n",
    "        print(\"Error : id is not found\")\n",
    "        return\n",
    "\n",
    "    # creating a Series with the similarity scores in descending order\n",
    "    score_series = pd.Series(cosine_similarities[idx]).sort_values(ascending = False)\n",
    "\n",
    "    # getting the indexes of the 10 most similar product\n",
    "    top_10_indexes = list(score_series.iloc[1: k+1].index)\n",
    "    \n",
    "    # populating the list with the titles of the best 10 matching movies\n",
    "    for i in top_10_indexes:\n",
    "        recommended_products.append(list(new_ds.index)[i])\n",
    "        recommended_descriptions.append(list(new_ds.id)[i])\n",
    "    return recommended_descriptions "
   ]
  },
  {
   "cell_type": "code",
   "execution_count": 22,
   "metadata": {},
   "outputs": [],
   "source": [
    "def lags_feature(df, steps=5):\n",
    "    res_df, columns = [], []\n",
    "    \n",
    "    for step in range(1, steps + 1):\n",
    "        res_df.append(df.shift(step))\n",
    "        for col in df.columns:\n",
    "            columns.append(f\"{col}(t-{step})\")\n",
    "\n",
    "    res_df = pd.concat(res_df, axis=1)\n",
    "    res_df.columns = columns\n",
    "\n",
    "#     res_df.fillna(method='bfill', inplace=True)\n",
    "#     res_df.fillna(method='ffill', inplace=True)\n",
    "    \n",
    "    return res_df"
   ]
  },
  {
   "cell_type": "code",
   "execution_count": 23,
   "metadata": {},
   "outputs": [
    {
     "data": {
      "text/plain": [
       "[1652,\n",
       " 138846,\n",
       " 18856,\n",
       " 218906,\n",
       " 1029086,\n",
       " 1101205,\n",
       " 1046513,\n",
       " 218907,\n",
       " 1029087,\n",
       " 218476]"
      ]
     },
     "execution_count": 23,
     "metadata": {},
     "output_type": "execute_result"
    }
   ],
   "source": [
    "recommendations(1640)"
   ]
  },
  {
   "cell_type": "code",
   "execution_count": 24,
   "metadata": {},
   "outputs": [
    {
     "name": "stderr",
     "output_type": "stream",
     "text": [
      "100%|██████████| 10/10 [00:19<00:00,  1.92s/it]\n"
     ]
    }
   ],
   "source": [
    "import numpy as np\n",
    "from tqdm import tqdm\n",
    "\n",
    "precision_k = []\n",
    "k = 20\n",
    "\n",
    "for user in tqdm(users[:10]):\n",
    "    user_df = interac_df.loc[interac_df[\"user_id\"] == user]\n",
    "    for i in range(user_df.shape[0]):\n",
    "        row = user_df.iloc[i]\n",
    "        expect = user_df.iloc[i: i+k][\"partnumber\"].values\n",
    "        if ~np.isnan(row[\"partnumber\"]):\n",
    "            context = row[\"partnumber\"]\n",
    "            pred = recommendations(context, k)\n",
    "            n_match = len(set(pred).intersection(set(expect)))\n",
    "            precision_k.append(n_match / expect.shape[0])"
   ]
  },
  {
   "cell_type": "code",
   "execution_count": null,
   "metadata": {},
   "outputs": [
    {
     "name": "stderr",
     "output_type": "stream",
     "text": [
      "  2%|▏         | 2734/156147 [1:08:42<130:57:59,  3.07s/it] "
     ]
    }
   ],
   "source": [
    "import numpy as np\n",
    "from tqdm import tqdm\n",
    "\n",
    "accuracy = []\n",
    "k = 20\n",
    "data = {\"partnumber\": [], \"recommends\": []}\n",
    "\n",
    "for user in tqdm(users):\n",
    "    user_df = interac_df.loc[interac_df[\"user_id\"] == user]\n",
    "    for i in range(user_df.shape[0]):\n",
    "        row = user_df.iloc[i]\n",
    "        expect = user_df.iloc[i: i+k][\"partnumber\"].values\n",
    "        if ~np.isnan(row[\"partnumber\"]):\n",
    "            context = row[\"partnuxmber\"]\n",
    "            pred = recommendations(context, k)\n",
    "            n_match = len(set(pred).intersection(set(expect))) > 0\n",
    "            accuracy.append(n_match)\n",
    "            data[\"partnumber\"].append(context)\n",
    "            data[\"recommends\"].append(pred)"
   ]
  },
  {
   "cell_type": "code",
   "execution_count": null,
   "metadata": {},
   "outputs": [],
   "source": [
    "pd.DataFrame(data)"
   ]
  },
  {
   "cell_type": "code",
   "execution_count": null,
   "metadata": {},
   "outputs": [],
   "source": [
    "np.mean(accuracy)"
   ]
  },
  {
   "cell_type": "code",
   "execution_count": null,
   "metadata": {},
   "outputs": [],
   "source": [
    "recommend_df.to_csv(\"Export/Rec_Content_based.csv\", index = False, header=True)"
   ]
  },
  {
   "cell_type": "code",
   "execution_count": null,
   "metadata": {},
   "outputs": [],
   "source": []
  }
 ],
 "metadata": {
  "kernelspec": {
   "display_name": "Python 3",
   "language": "python",
   "name": "python3"
  },
  "language_info": {
   "codemirror_mode": {
    "name": "ipython",
    "version": 3
   },
   "file_extension": ".py",
   "mimetype": "text/x-python",
   "name": "python",
   "nbconvert_exporter": "python",
   "pygments_lexer": "ipython3",
   "version": "3.9.2"
  }
 },
 "nbformat": 4,
 "nbformat_minor": 4
}
